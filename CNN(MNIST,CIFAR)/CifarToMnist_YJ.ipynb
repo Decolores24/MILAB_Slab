{
 "cells": [
  {
   "cell_type": "code",
   "execution_count": 1,
   "metadata": {},
   "outputs": [],
   "source": [
    "#torchvision을 사용해 데이터 불러오기\n",
    "import torch\n",
    "import torchvision\n",
    "import torchvision.transforms as transforms"
   ]
  },
  {
   "cell_type": "code",
   "execution_count": 2,
   "metadata": {
    "scrolled": true
   },
   "outputs": [],
   "source": [
    "transform = transforms.Compose(\n",
    "    [transforms.ToTensor()])\n",
    "\n",
    "#train data와 test data를 다운로드\n",
    "trainset = torchvision.datasets.MNIST(root='./data', train=True,\n",
    "                                        download=True, transform=transform)\n",
    "trainloader = torch.utils.data.DataLoader(trainset, batch_size=4,\n",
    "                                          shuffle=True, num_workers=2)\n",
    "\n",
    "testset = torchvision.datasets.MNIST(root='./data', train=False,\n",
    "                                       download=True, transform=transform)\n",
    "testloader = torch.utils.data.DataLoader(testset, batch_size=4,\n",
    "                                         shuffle=False, num_workers=2)"
   ]
  },
  {
   "cell_type": "code",
   "execution_count": 3,
   "metadata": {
    "scrolled": false
   },
   "outputs": [],
   "source": [
    "import matplotlib.pyplot as plt\n",
    "import numpy as np\n",
    "# 이미지를 보여주기 위한 함수\n",
    "def imshow(img):\n",
    "    img = img / 2 + 0.5     # unnormalize 다시 [0, 1]로 바꿈\n",
    "    npimg = img.numpy()\n",
    "    plt.imshow(np.transpose(npimg, (1, 2, 0)))\n",
    "\n",
    "\n",
    "# 학습용 이미지를 무작위로 가져오기\n",
    "dataiter = iter(trainloader)\n",
    "images, labels = dataiter.next()\n",
    "\n",
    "# 이미지 보여주기\n",
    "imshow(torchvision.utils.make_grid(images))"
   ]
  },
  {
   "cell_type": "code",
   "execution_count": 4,
   "metadata": {},
   "outputs": [],
   "source": [
    "import torch.nn as nn\n",
    "import torch.nn.functional as F\n",
    "from torch.autograd import Variable\n",
    "#\n",
    "class Net(nn.Module):\n",
    "    def __init__(self):\n",
    "        super(Net, self).__init__()\n",
    "        #convolution layer, pooling layer, fully connected layer 정의\n",
    "        self.conv1 = nn.Conv2d(1, 6, 5) # input channels, output channels, kernel(fliter) size, 1 * 28 * 28 ->  6 * 24 * 24\n",
    "        #(28 - 5) + 1 이므로 24가 됨.\n",
    "        self.pool = nn.MaxPool2d(2)  # kernel size, stride = 1, padding = 0 (default) stride를 2로하면 4씩 작아지니까\n",
    "        self.conv2 = nn.Conv2d(6, 16, 5) # 6 * 12 * 12 -> 16 * 8 * 8\n",
    "        self.fc1 = nn.Linear(16 * 4 * 4, 256) # input features, output features\n",
    "        self.fc2 = nn.Linear(256, 128)\n",
    "        self.fc3 = nn.Linear(128, 10)\n",
    "        \n",
    "    def forward(self, x):\n",
    "        x = self.pool(F.relu(self.conv1(x))) # 6 * 24 * 24 -> 6 * 12 * 12\n",
    "        x = self.pool(F.relu(self.conv2(x))) # 16 * 8 * 8 -> 16 * 4 * 4\n",
    "        x = x.view(-1, 16 * 4 * 4)\n",
    "        x = F.relu(self.fc1(x))\n",
    "        x = F.relu(self.fc2(x))\n",
    "        x = self.fc3(x)\n",
    "        return x\n",
    "\n",
    "\n",
    "net = Net()"
   ]
  },
  {
   "cell_type": "code",
   "execution_count": 5,
   "metadata": {},
   "outputs": [],
   "source": [
    "import torch.optim as optim\n",
    "\n",
    "#손실함수는 교차엔트로피, optimizer는 확률적 경사하강법으로 설정.\n",
    "criterion = nn.CrossEntropyLoss()\n",
    "optimizer = optim.SGD(net.parameters(), lr=0.001, momentum=0.9)"
   ]
  },
  {
   "cell_type": "code",
   "execution_count": 6,
   "metadata": {},
   "outputs": [
    {
     "name": "stdout",
     "output_type": "stream",
     "text": [
      "[1,   500] loss: 2.293\n",
      "[1,  1000] loss: 2.022\n",
      "[1,  1500] loss: 0.776\n",
      "[1,  2000] loss: 0.507\n",
      "[1,  2500] loss: 0.388\n",
      "[1,  3000] loss: 0.281\n",
      "[1,  3500] loss: 0.278\n",
      "[1,  4000] loss: 0.236\n",
      "[1,  4500] loss: 0.203\n",
      "[1,  5000] loss: 0.186\n",
      "[2,   500] loss: 0.169\n",
      "[2,  1000] loss: 0.156\n",
      "[2,  1500] loss: 0.166\n",
      "[2,  2000] loss: 0.141\n",
      "[2,  2500] loss: 0.117\n",
      "[2,  3000] loss: 0.131\n",
      "[2,  3500] loss: 0.141\n",
      "[2,  4000] loss: 0.124\n",
      "[2,  4500] loss: 0.106\n",
      "[2,  5000] loss: 0.122\n",
      "Finished Training\n"
     ]
    }
   ],
   "source": [
    "for epoch in range(2):  # 데이터셋을 수차례 반복합니다. training 부분\n",
    "\n",
    "    running_loss = 0.0\n",
    "    for i, data in enumerate(trainloader, 0):\n",
    "        # 입력을 받은 후\n",
    "        inputs, labels = data\n",
    "\n",
    "        # 변화도(Gradient) 매개변수를 0으로 만든 후\n",
    "        optimizer.zero_grad()\n",
    "\n",
    "        # 순전파 + 역전파 + 최적화\n",
    "        outputs = net(inputs) #순전파\n",
    "        loss = criterion(outputs, labels) #CEE로 loss를 구하고\n",
    "        loss.backward() #역전파\n",
    "        optimizer.step() #경사하강법을 이용해 최적화\n",
    "\n",
    "        # 통계 출력\n",
    "        running_loss += loss.item()\n",
    "        if i % 500 == 499:    # print every 2000 mini-batches\n",
    "            print('[%d, %5d] loss: %.3f' %\n",
    "                  (epoch + 1, i + 1, running_loss / 500))\n",
    "            running_loss = 0.0\n",
    "\n",
    "        if i == 5000:\n",
    "            break\n",
    "print('Finished Training')"
   ]
  },
  {
   "cell_type": "code",
   "execution_count": 7,
   "metadata": {},
   "outputs": [
    {
     "name": "stdout",
     "output_type": "stream",
     "text": [
      "    7    2    1    0\n"
     ]
    },
    {
     "data": {
      "image/png": "[encoded data removed]",
      "text/plain": [
       "<Figure size 432x288 with 1 Axes>"
      ]
     },
     "metadata": {
      "needs_background": "light"
     },
     "output_type": "display_data"
    }
   ],
   "source": [
    "#정답값과 이미지 출력\n",
    "dataiter = iter(testloader)\n",
    "images, labels = dataiter.next()\n",
    "\n",
    "# print images\n",
    "imshow(torchvision.utils.make_grid(images))\n",
    "print(''.join('%5d' % labels[j] for j in range(4)))\n",
    "plt.show()"
   ]
  },
  {
   "cell_type": "code",
   "execution_count": 8,
   "metadata": {},
   "outputs": [],
   "source": [
    "outputs = net(images)"
   ]
  },
  {
   "cell_type": "code",
   "execution_count": 9,
   "metadata": {},
   "outputs": [
    {
     "name": "stdout",
     "output_type": "stream",
     "text": [
      "    7    2    1    0\n"
     ]
    }
   ],
   "source": [
    "#output은 10개의 class를 각각 예측해서 값을 갖고 있는데 그 중 max값을 저장\n",
    "_, predicted = torch.max(outputs, 1)\n",
    "\n",
    "print(''.join('%5d' % predicted[j] for j in range(4)))"
   ]
  },
  {
   "cell_type": "code",
   "execution_count": 10,
   "metadata": {},
   "outputs": [
    {
     "name": "stdout",
     "output_type": "stream",
     "text": [
      "Accuracy of the network on the 10000 test images: 96 %\n"
     ]
    }
   ],
   "source": [
    "#전체 dataset을 통해 정확도를 check\n",
    "correct = 0\n",
    "total = 0\n",
    "with torch.no_grad():\n",
    "    for data in testloader:\n",
    "        images, labels = data\n",
    "        outputs = net(images)\n",
    "        _, predicted = torch.max(outputs.data, 1)\n",
    "        total += labels.size(0)\n",
    "        correct += (predicted == labels).sum().item()\n",
    "\n",
    "print('Accuracy of the network on the 10000 test images: %d %%' % (\n",
    "    100 * correct / total))"
   ]
  },
  {
   "cell_type": "code",
   "execution_count": 11,
   "metadata": {},
   "outputs": [
    {
     "data": {
      "text/plain": [
       "'\\nimport random\\n\\nr = random.randint(0, len(testset) -1)\\nX_single_data = Variable(testset.test_data[r:r + 1].view(-1,28 * 28).float())\\nY_single_data = Variable(testset.test_labels[r:r + 1])\\n\\nsingle_prediction = Net(X_single_data)\\n\\nprint(\"Label : \", Y_single_data.data)\\nprint(\"Prediction : \", torch.max(single_prediction.data, 1)[1])\\n\\nplt.imshow(X_single_data.data.view(28,28).numpy(), cmap=\\'gray\\')\\nplt.show()\\n'"
      ]
     },
     "execution_count": 11,
     "metadata": {},
     "output_type": "execute_result"
    }
   ],
   "source": [
    "'''\n",
    "import random\n",
    "\n",
    "r = random.randint(0, len(testset) -1)\n",
    "X_single_data = Variable(testset.test_data[r:r + 1].view(-1,28 * 28).float())\n",
    "Y_single_data = Variable(testset.test_labels[r:r + 1])\n",
    "\n",
    "single_prediction = Net(X_single_data)\n",
    "\n",
    "print(\"Label : \", Y_single_data.data)\n",
    "print(\"Prediction : \", torch.max(single_prediction.data, 1)[1])\n",
    "\n",
    "plt.imshow(X_single_data.data.view(28,28).numpy(), cmap='gray')\n",
    "plt.show()\n",
    "'''"
   ]
  },
  {
   "cell_type": "code",
   "execution_count": 12,
   "metadata": {},
   "outputs": [
    {
     "data": {
      "text/plain": [
       "'\\n튜토리얼 과정\\n1. training, test 데이터셋을 불러오고 정규화\\n2. CNN모델 정의\\n3. loss와 optimizer 정의(손실함수와 경사하강법)\\n4. training data로 신경망 학습\\n5. test data로 검사(정확도 검사)\\n'"
      ]
     },
     "execution_count": 12,
     "metadata": {},
     "output_type": "execute_result"
    }
   ],
   "source": [
    "'''\n",
    "튜토리얼 과정\n",
    "1. training, test 데이터셋을 불러오고 정규화\n",
    "2. CNN모델 정의\n",
    "3. loss와 optimizer 정의(손실함수와 경사하강법)\n",
    "4. training data로 신경망 학습\n",
    "5. test data로 검사(정확도 검사)\n",
    "'''"
   ]
  }
 ],
 "metadata": {
  "kernelspec": {
   "display_name": "PyTorch",
   "language": "python",
   "name": "pytorch"
  },
  "language_info": {
   "codemirror_mode": {
    "name": "ipython",
    "version": 3
   },
   "file_extension": ".py",
   "mimetype": "text/x-python",
   "name": "python",
   "nbconvert_exporter": "python",
   "pygments_lexer": "ipython3",
   "version": "3.7.3"
  }
 },
 "nbformat": 4,
 "nbformat_minor": 2
}
